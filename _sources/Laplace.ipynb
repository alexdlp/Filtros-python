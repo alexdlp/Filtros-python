{
 "cells": [
  {
   "cell_type": "markdown",
   "id": "eddc7b66",
   "metadata": {},
   "source": [
    "# Transformada de Laplace\n",
    "Los entendidos dicen que el chisme este es lo mas cerca que puedes estar a tomar un sistema y restarle 2 o 3 años de matemática avanzada a la dificultad de su resolución solo con aplicarla. Por ejemplo podrías transformar una PDE en una ODE, que es más facil de resolver. Del mismo modo, también se podría transformar una ODE en una simple ecuación algebraica. Total, que al final donde es más útil esta cosa es en teoría de control.\n",
    "\n",
    "$$ \\mathscr{L}\\{f(t)\\}=\\int_{t=0}^{\\infty}f(t)e^{-st}dt $$\n",
    "\n",
    "No asustarse: la primera parte quiere decir que la transformada de laplace $\\mathscr{L}$ se aplica sobre una función que varía en el tiempo $f(t)$. Esta función $f(t)$ (osea, cualquier función que tengamos entre manos) se multiplica por un exponencial decreciente $e^{-st}$. Así lo que se obtiene es una conversión de una función expresada en función del tiempo $t$, a otra función expresada en base al plano complejo (o frecuencia compleja) $s$. \n",
    "\n",
    "````{margin}\n",
    "esto sale o que ostias\n",
    "```{code-cell} ipython3\n",
    "from numpy import exp, linspace\n",
    "import matplotlib.pyplot as plt\n",
    "\n",
    "time = linspace(0,1,50)\n",
    "s = 5 # valor de la frecuancia compleja, no tiene por qué ser un entero\n",
    "ft = exp(-s*time)\n",
    "\n",
    "plt.plot(time,ft)\n",
    "```\n",
    "````\n",
    "## esto esta en verde por alguna razon\n",
    "\n",
    "```{warning}\n",
    "En muchos sitios la integral aparece definida desde $-\\infty$ a $\\infty$. Por lo general, para menesteres ingenieríles nos quedamos con la integral desde $0$ a $\\infty$, y dejaremos la parte negativa para movidas más matematicas.\n",
    "```\n",
    "\n",
    "llas"
   ]
  },
  {
   "cell_type": "code",
   "execution_count": 1,
   "id": "a21afd1b",
   "metadata": {},
   "outputs": [
    {
     "ename": "ModuleNotFoundError",
     "evalue": "No module named 'numpy'",
     "output_type": "error",
     "traceback": [
      "\u001b[1;31m---------------------------------------------------------------------------\u001b[0m",
      "\u001b[1;31mModuleNotFoundError\u001b[0m                       Traceback (most recent call last)",
      "Input \u001b[1;32mIn [1]\u001b[0m, in \u001b[0;36m<cell line: 1>\u001b[1;34m()\u001b[0m\n\u001b[1;32m----> 1\u001b[0m \u001b[38;5;28;01mfrom\u001b[39;00m \u001b[38;5;21;01mnumpy\u001b[39;00m \u001b[38;5;28;01mimport\u001b[39;00m exp, linspace\n\u001b[0;32m      2\u001b[0m \u001b[38;5;28;01mimport\u001b[39;00m \u001b[38;5;21;01mmatplotlib\u001b[39;00m\u001b[38;5;21;01m.\u001b[39;00m\u001b[38;5;21;01mpyplot\u001b[39;00m \u001b[38;5;28;01mas\u001b[39;00m \u001b[38;5;21;01mplt\u001b[39;00m\n\u001b[0;32m      4\u001b[0m time \u001b[38;5;241m=\u001b[39m linspace(\u001b[38;5;241m0\u001b[39m,\u001b[38;5;241m1\u001b[39m,\u001b[38;5;241m50\u001b[39m)\n",
      "\u001b[1;31mModuleNotFoundError\u001b[0m: No module named 'numpy'"
     ]
    }
   ],
   "source": [
    "from numpy import exp, linspace\n",
    "import matplotlib.pyplot as plt\n",
    "\n",
    "time = linspace(0,1,50)\n",
    "s = 5 # valor de la frecuancia compleja, no tiene por qué ser un entero\n",
    "ft = exp(-s*time)\n",
    "\n",
    "plt.plot(time,ft)"
   ]
  },
  {
   "cell_type": "code",
   "execution_count": null,
   "id": "6f1d05b8",
   "metadata": {},
   "outputs": [],
   "source": [
    "from numpy import exp, linspace\n",
    "import matplotlib.pyplot as plt\n",
    "\n",
    "time = linspace(0,1,50)\n",
    "s = 5 # valor de la frecuancia compleja, no tiene por qué ser un entero\n",
    "ft = exp(-s*time)\n",
    "\n",
    "plt.plot(time,ft)"
   ]
  },
  {
   "cell_type": "markdown",
   "id": "ff0fcd27",
   "metadata": {},
   "source": [
    "```{warning}\n",
    "ola3\n",
    "En muchos sitios la integral aparece definida desde $-\\infty$ a $\\infty$. Por lo general, para menesteres ingenieríles nos quedamos con la integral desde $0$ a $\\infty$, y dejaremos la parte negativa para movidas más matematicas.\n",
    "```\n",
    "\n",
    "```python\n",
    "note = \"Python syntax highlighting\"\n",
    "print(node)\n",
    "```\n",
    "\n",
    "````{margin}\n",
    "esto sale o que ostias con python\n",
    "```python\n",
    "from numpy import exp, linspace\n",
    "import matplotlib.pyplot as plt\n",
    "\n",
    "time = linspace(0,1,50)\n",
    "s = 5 # valor de la frecuancia compleja, no tiene por qué ser un entero\n",
    "ft = exp(-s*time)\n",
    "\n",
    "plt.plot(time,ft)\n",
    "```\n",
    "````\n",
    "\n",
    "```python\n",
    ":tags: [margin]\n",
    "from numpy import exp, linspace\n",
    "import matplotlib.pyplot as plt\n",
    "\n",
    "time = linspace(0,1,50)\n",
    "s = 5 # valor de la frecuancia compleja, no tiene por qué ser un entero\n",
    "ft = exp(-s*time)\n",
    "\n",
    "plt.plot(time,ft)\n",
    "```"
   ]
  }
 ],
 "metadata": {
  "jupytext": {
   "cell_metadata_filter": "-all",
   "formats": "md:myst",
   "text_representation": {
    "extension": ".md",
    "format_name": "myst",
    "format_version": 0.13,
    "jupytext_version": "1.11.5"
   }
  },
  "kernelspec": {
   "display_name": "Python 3",
   "language": "python",
   "name": "python3"
  },
  "language_info": {
   "codemirror_mode": {
    "name": "ipython",
    "version": 3
   },
   "file_extension": ".py",
   "mimetype": "text/x-python",
   "name": "python",
   "nbconvert_exporter": "python",
   "pygments_lexer": "ipython3",
   "version": "3.10.2"
  },
  "source_map": [
   14,
   44,
   55,
   64
  ]
 },
 "nbformat": 4,
 "nbformat_minor": 5
}